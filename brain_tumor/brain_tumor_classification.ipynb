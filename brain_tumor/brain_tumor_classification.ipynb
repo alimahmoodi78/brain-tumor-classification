{
  "nbformat": 4,
  "nbformat_minor": 5,
  "metadata": {
    "kernelspec": {
      "display_name": "Python 3",
      "language": "python",
      "name": "python3"
    },
    "language_info": {
      "codemirror_mode": {
        "name": "ipython",
        "version": 3
      },
      "file_extension": ".py",
      "mimetype": "text/x-python",
      "name": "python",
      "nbconvert_exporter": "python",
      "pygments_lexer": "ipython3",
      "version": "3.7.10"
    },
    "papermill": {
      "default_parameters": {},
      "duration": 8911.828215,
      "end_time": "2021-10-03T12:18:04.349799",
      "environment_variables": {},
      "exception": null,
      "input_path": "__notebook__.ipynb",
      "output_path": "__notebook__.ipynb",
      "parameters": {},
      "start_time": "2021-10-03T09:49:32.521584",
      "version": "2.3.3"
    },
    "colab": {
      "name": "Copy of rsna-brain-tumor.ipynb",
      "provenance": [],
      "collapsed_sections": []
    }
  },
  "cells": [
    {
      "cell_type": "code",
      "metadata": {
        "_cell_guid": "b1076dfc-b9ad-4769-8c92-a6c4dae69d19",
        "_uuid": "8f2839f25d086af736a60e9eeb907d3b93b6e0e5",
        "execution": {
          "iopub.execute_input": "2021-10-03T09:49:38.815960Z",
          "iopub.status.busy": "2021-10-03T09:49:38.815411Z",
          "iopub.status.idle": "2021-10-03T09:49:40.369577Z",
          "shell.execute_reply": "2021-10-03T09:49:40.368948Z",
          "shell.execute_reply.started": "2021-10-03T09:22:27.688075Z"
        },
        "papermill": {
          "duration": 1.581302,
          "end_time": "2021-10-03T09:49:40.369723",
          "exception": false,
          "start_time": "2021-10-03T09:49:38.788421",
          "status": "completed"
        },
        "tags": [],
        "id": "a45b3ee3"
      },
      "source": [
        "import numpy as np\n",
        "import pandas as pd\n",
        "import matplotlib.pyplot as plt\n",
        "import os\n",
        "import cv2\n",
        "import torch\n",
        "from torch import nn\n",
        "import torch.nn.functional as F\n",
        "import torchvision\n",
        "import torchvision.transforms as T\n",
        "from torchvision.models import vgg19, vgg19_bn\n",
        "from torch.utils.data import Dataset, DataLoader\n",
        "import pydicom\n",
        "from pydicom.pixel_data_handlers.util import apply_voi_lut\n",
        "from glob import glob\n",
        "from tqdm.auto import tqdm\n",
        "from copy import deepcopy"
      ],
      "id": "a45b3ee3",
      "execution_count": null,
      "outputs": []
    },
    {
      "cell_type": "code",
      "metadata": {
        "execution": {
          "iopub.execute_input": "2021-10-03T09:49:40.431174Z",
          "iopub.status.busy": "2021-10-03T09:49:40.430194Z",
          "iopub.status.idle": "2021-10-03T09:49:40.453178Z",
          "shell.execute_reply": "2021-10-03T09:49:40.452744Z",
          "shell.execute_reply.started": "2021-10-03T09:22:32.592891Z"
        },
        "papermill": {
          "duration": 0.054738,
          "end_time": "2021-10-03T09:49:40.453295",
          "exception": false,
          "start_time": "2021-10-03T09:49:40.398557",
          "status": "completed"
        },
        "tags": [],
        "id": "cbf4b9b8"
      },
      "source": [
        "train_path = '../input/rsna-miccai-brain-tumor-radiogenomic-classification/train/'\n",
        "test_path = '../input/rsna-miccai-brain-tumor-radiogenomic-classification/test/'\n",
        "df = pd.read_csv('../input/rsna-miccai-brain-tumor-radiogenomic-classification/train_labels.csv', dtype = str)\n",
        "df.iloc[:,1] = list(map(lambda x:int(x), df.iloc[:,1].values))"
      ],
      "id": "cbf4b9b8",
      "execution_count": null,
      "outputs": []
    },
    {
      "cell_type": "markdown",
      "source": [
        "# at first we define the functions to read dicom files and preprocess the images. then we sort the images based on their corresponding numbers and concatenate them to pass to the model."
      ],
      "metadata": {
        "id": "l_vHFaO91Z2i"
      },
      "id": "l_vHFaO91Z2i"
    },
    {
      "cell_type": "code",
      "metadata": {
        "execution": {
          "iopub.execute_input": "2021-10-03T09:49:40.492532Z",
          "iopub.status.busy": "2021-10-03T09:49:40.491839Z",
          "iopub.status.idle": "2021-10-03T09:49:40.494111Z",
          "shell.execute_reply": "2021-10-03T09:49:40.494476Z",
          "shell.execute_reply.started": "2021-10-03T09:22:33.261824Z"
        },
        "papermill": {
          "duration": 0.027389,
          "end_time": "2021-10-03T09:49:40.494598",
          "exception": false,
          "start_time": "2021-10-03T09:49:40.467209",
          "status": "completed"
        },
        "tags": [],
        "id": "22c079aa"
      },
      "source": [
        "def read_dicom(path):\n",
        "    img = pydicom.read_file(path)\n",
        "    img = apply_voi_lut(img.pixel_array, img)\n",
        "    img = (img - img.min()) / (img.max() - img.min())\n",
        "    return cv2.resize(img, (256, 256))[..., None]\n",
        "\n",
        "def read_dicom1(path):\n",
        "    img = pydicom.read_file(path)\n",
        "    img = apply_voi_lut(img.pixel_array, img)\n",
        "    img = (img - img.min()) / (img.max() - img.min()) if img.max() != img.min() else img\n",
        "    img = img[int(0.15 * img.shape[0]):int(0.67 * img.shape[0]), int(0.23 * img.shape[1]):int(0.78 * img.shape[1])]\n",
        "    img = cv2.resize(img, (128, 128))\n",
        "    return img[None, ...]\n",
        "\n",
        "def read_file_dicom(instance_name, file_name, train_path, num = 128):\n",
        "    path = f'{train_path}/{instance_name}/{file_name}/'\n",
        "    files = os.listdir(path)\n",
        "    mid = len(files) // 2\n",
        "    files = sorted(files, key = lambda x:int(x[6:-4]))\n",
        "    files = files[mid - num//2:mid + num//2] if len(files) > num else files\n",
        "    lis = [read_dicom1(path + i) for i in files]\n",
        "    image = np.concatenate(lis, axis = 0)\n",
        "    return image\n",
        "\n",
        "def read_all_dicom(instance_name, train_path = train_path, files = ['FLAIR', 'T1w', 'T1wCE', 'T2w']):\n",
        "    lis = [read_file_dicom(instance_name, file_name, train_path) for file_name in files]\n",
        "    return np.concatenate(lis, axis = -1)"
      ],
      "id": "22c079aa",
      "execution_count": null,
      "outputs": []
    },
    {
      "cell_type": "code",
      "metadata": {
        "execution": {
          "iopub.execute_input": "2021-10-03T09:49:40.677539Z",
          "iopub.status.busy": "2021-10-03T09:49:40.676742Z",
          "iopub.status.idle": "2021-10-03T09:49:40.685358Z",
          "shell.execute_reply": "2021-10-03T09:49:40.686383Z",
          "shell.execute_reply.started": "2021-10-03T09:22:35.268678Z"
        },
        "papermill": {
          "duration": 0.037862,
          "end_time": "2021-10-03T09:49:40.686586",
          "exception": false,
          "start_time": "2021-10-03T09:49:40.648724",
          "status": "completed"
        },
        "tags": [],
        "id": "8422b05b"
      },
      "source": [
        "files = df.iloc[:, 0].values\n",
        "labels = df.iloc[:, 1].values\n",
        "val_index = np.random.choice(len(files), len(files)//5, replace = False)\n",
        "train_index = np.delete(np.arange(len(files)), val_index)\n",
        "train_files = files[train_index]\n",
        "train_labels = labels[train_index]\n",
        "val_files = files[val_index]\n",
        "val_labels = labels[val_index]"
      ],
      "id": "8422b05b",
      "execution_count": null,
      "outputs": []
    },
    {
      "cell_type": "markdown",
      "source": [
        "# here we define the dataset class and then we make the data loaders."
      ],
      "metadata": {
        "id": "B2ESBL-U3O_z"
      },
      "id": "B2ESBL-U3O_z"
    },
    {
      "cell_type": "code",
      "metadata": {
        "execution": {
          "iopub.execute_input": "2021-10-03T09:49:40.756360Z",
          "iopub.status.busy": "2021-10-03T09:49:40.755568Z",
          "iopub.status.idle": "2021-10-03T09:49:40.757902Z",
          "shell.execute_reply": "2021-10-03T09:49:40.758349Z",
          "shell.execute_reply.started": "2021-10-03T09:22:36.151292Z"
        },
        "papermill": {
          "duration": 0.023072,
          "end_time": "2021-10-03T09:49:40.758473",
          "exception": false,
          "start_time": "2021-10-03T09:49:40.735401",
          "status": "completed"
        },
        "tags": [],
        "id": "5025a54c"
      },
      "source": [
        "class RSNADataset(Dataset):\n",
        "    def __init__(self, path, instances, labels):\n",
        "        self.path = path\n",
        "        self.instances = instances\n",
        "        self.labels = labels\n",
        "    def __len__(self):\n",
        "        return len(self.instances)\n",
        "    def __getitem__(self, idx):\n",
        "        instance_name = self.instances[idx]\n",
        "        label = self.labels[idx:idx+1]\n",
        "        instance = torch.from_numpy(read_all_dicom(instance_name, train_path = self.path, files = ['FLAIR']))\n",
        "        label = torch.from_numpy(label)\n",
        "        return instance.float(), label.float()#torch.cat((instance, instance, instance), dim = 0).float()"
      ],
      "id": "5025a54c",
      "execution_count": null,
      "outputs": []
    },
    {
      "cell_type": "code",
      "metadata": {
        "execution": {
          "iopub.execute_input": "2021-10-03T09:49:40.794080Z",
          "iopub.status.busy": "2021-10-03T09:49:40.793381Z",
          "iopub.status.idle": "2021-10-03T09:49:40.800449Z",
          "shell.execute_reply": "2021-10-03T09:49:40.796922Z",
          "shell.execute_reply.started": "2021-10-03T09:22:36.580447Z"
        },
        "papermill": {
          "duration": 0.02694,
          "end_time": "2021-10-03T09:49:40.800603",
          "exception": false,
          "start_time": "2021-10-03T09:49:40.773663",
          "status": "completed"
        },
        "tags": [],
        "id": "5d483a1f"
      },
      "source": [
        "train_data = RSNADataset(train_path, train_files, train_labels)\n",
        "val_data = RSNADataset(train_path, val_files, val_labels)\n",
        "train_data = DataLoader(train_data, batch_size = 1, shuffle = True)\n",
        "val_data = DataLoader(val_data)"
      ],
      "id": "5d483a1f",
      "execution_count": null,
      "outputs": []
    },
    {
      "cell_type": "markdown",
      "source": [
        "# we initialize the model with VGG19 as the feature detector then we pass the resulting vectors through a transformer encoder and finally we pass the encoded values to fully connected layers to predict the label."
      ],
      "metadata": {
        "id": "iZqB641Z3nfL"
      },
      "id": "iZqB641Z3nfL"
    },
    {
      "cell_type": "code",
      "metadata": {
        "execution": {
          "iopub.execute_input": "2021-10-03T09:49:40.860835Z",
          "iopub.status.busy": "2021-10-03T09:49:40.857891Z",
          "iopub.status.idle": "2021-10-03T09:49:40.869474Z",
          "shell.execute_reply": "2021-10-03T09:49:40.870493Z",
          "shell.execute_reply.started": "2021-10-03T09:40:11.428689Z"
        },
        "papermill": {
          "duration": 0.046291,
          "end_time": "2021-10-03T09:49:40.870795",
          "exception": false,
          "start_time": "2021-10-03T09:49:40.824504",
          "status": "completed"
        },
        "tags": [],
        "id": "e8c35632"
      },
      "source": [
        "class MyModel(nn.Module):\n",
        "    def __init__(self):\n",
        "        super(MyModel, self).__init__()\n",
        "        vgg = vgg19()\n",
        "        vgg.load_state_dict(torch.load('../input/vgg19/vgg19.pth'))\n",
        "        self.feature_detector = vgg.features[:40]\n",
        "        self.avgpool = nn.AdaptiveAvgPool2d(1)\n",
        "        self.encoder = nn.TransformerEncoder(encoder_layer = nn.TransformerEncoderLayer(d_model = 512, nhead = 8), num_layers = 3)\n",
        "        self.fc = nn.Linear(512, 1)\n",
        "        self.sigmoid = nn.Sigmoid()\n",
        "    \n",
        "    def forward(self, x):\n",
        "        x = x[0][:, None].repeat(1, 3, 1, 1)\n",
        "        x = self.feature_detector(x)\n",
        "        x = self.avgpool(x)[:, :, 0, 0][None, ...]\n",
        "        x = self.encoder(x)\n",
        "        x = self.fc(x).sort(descending = True)[0][:, :15].mean(dim = 1)\n",
        "        x = self.sigmoid(x)\n",
        "        return x"
      ],
      "id": "e8c35632",
      "execution_count": null,
      "outputs": []
    },
    {
      "cell_type": "code",
      "metadata": {
        "execution": {
          "iopub.execute_input": "2021-10-03T09:49:40.915324Z",
          "iopub.status.busy": "2021-10-03T09:49:40.914625Z",
          "iopub.status.idle": "2021-10-03T09:49:51.186702Z",
          "shell.execute_reply": "2021-10-03T09:49:51.186105Z",
          "shell.execute_reply.started": "2021-10-03T09:40:13.368416Z"
        },
        "papermill": {
          "duration": 10.290506,
          "end_time": "2021-10-03T09:49:51.186832",
          "exception": false,
          "start_time": "2021-10-03T09:49:40.896326",
          "status": "completed"
        },
        "tags": [],
        "id": "b8f151aa"
      },
      "source": [
        "model = MyModel()"
      ],
      "id": "b8f151aa",
      "execution_count": null,
      "outputs": []
    },
    {
      "cell_type": "code",
      "metadata": {
        "execution": {
          "iopub.execute_input": "2021-10-03T09:49:51.221051Z",
          "iopub.status.busy": "2021-10-03T09:49:51.219819Z",
          "iopub.status.idle": "2021-10-03T09:49:51.222212Z",
          "shell.execute_reply": "2021-10-03T09:49:51.222598Z",
          "shell.execute_reply.started": "2021-10-03T09:40:16.869023Z"
        },
        "papermill": {
          "duration": 0.021758,
          "end_time": "2021-10-03T09:49:51.222734",
          "exception": false,
          "start_time": "2021-10-03T09:49:51.200976",
          "status": "completed"
        },
        "tags": [],
        "id": "0152fbd4"
      },
      "source": [
        "opt = torch.optim.Adam(model.parameters(), lr = 0.00005)\n",
        "criterion = nn.BCELoss()"
      ],
      "id": "0152fbd4",
      "execution_count": null,
      "outputs": []
    },
    {
      "cell_type": "code",
      "metadata": {
        "execution": {
          "iopub.execute_input": "2021-10-03T09:49:51.263998Z",
          "iopub.status.busy": "2021-10-03T09:49:51.262795Z",
          "iopub.status.idle": "2021-10-03T09:49:51.265436Z",
          "shell.execute_reply": "2021-10-03T09:49:51.265048Z",
          "shell.execute_reply.started": "2021-10-03T09:22:59.042484Z"
        },
        "papermill": {
          "duration": 0.028882,
          "end_time": "2021-10-03T09:49:51.265538",
          "exception": false,
          "start_time": "2021-10-03T09:49:51.236656",
          "status": "completed"
        },
        "tags": [],
        "id": "9adc024f"
      },
      "source": [
        "def train_model(model, train_data, optimizer, criteria, epochs, val_data = None, device = 'cpu'):\n",
        "    model = model.to(device)\n",
        "    model_state = None\n",
        "    best_val = 10\n",
        "    for epoch in range(epochs):\n",
        "        train_loss = 0\n",
        "        val_loss = 0\n",
        "        train_acc = 0\n",
        "        val_acc = 0\n",
        "        train_step = 0\n",
        "        model.train()\n",
        "        for image, label in tqdm(train_data):\n",
        "            image = image.to(device)\n",
        "            label = label.to(device)\n",
        "            pred = model(image)\n",
        "            loss = criteria(pred, label)\n",
        "            train_loss += loss.item()\n",
        "            train_step += 1\n",
        "            train_acc += 1 if torch.floor(pred[0,0] + 0.5) == label[0,0] else 0\n",
        "            optimizer.zero_grad()\n",
        "            loss.backward()\n",
        "            optimizer.step()\n",
        "            if train_step % 80 == 0:\n",
        "                print(f'{train_loss / train_step}')\n",
        "        train_loss /= train_data.__len__()\n",
        "        train_acc /= train_data.__len__()\n",
        "        torch.cuda.empty_cache()\n",
        "        if val_data:\n",
        "            model.eval()\n",
        "            for image, label in val_data:\n",
        "                image = image.to(device)\n",
        "                label = label.to(device)\n",
        "                pred = model(image)\n",
        "                loss = criteria(pred , label)\n",
        "                val_loss += loss.item()\n",
        "                val_acc += 1 if torch.floor(pred[0,0] + 0.5) == label[0,0] else 0\n",
        "            val_loss /= val_data.__len__()\n",
        "            val_acc /= val_data.__len__()\n",
        "            if val_loss < best_val:\n",
        "                model_state = deepcopy(model.state_dict())\n",
        "                best_val = val_loss\n",
        "            print('epoch:', epoch, 'loss:', train_loss, 'acc:', train_acc, ';;;; val_loss:', val_loss, 'val_acc:', val_acc)\n",
        "            torch.cuda.empty_cache()\n",
        "        else:\n",
        "            print('epoch:', epoch, 'loss: ', train_loss, 'acc:', train_acc)\n",
        "    if val_data:\n",
        "        model.load_state_dict(model_state)"
      ],
      "id": "9adc024f",
      "execution_count": null,
      "outputs": []
    },
    {
      "cell_type": "code",
      "metadata": {
        "execution": {
          "iopub.execute_input": "2021-10-03T09:49:51.348645Z",
          "iopub.status.busy": "2021-10-03T09:49:51.299006Z",
          "iopub.status.idle": "2021-10-03T12:16:36.362393Z",
          "shell.execute_reply": "2021-10-03T12:16:36.362858Z"
        },
        "papermill": {
          "duration": 8805.084792,
          "end_time": "2021-10-03T12:16:36.364055",
          "exception": false,
          "start_time": "2021-10-03T09:49:51.279263",
          "status": "completed"
        },
        "tags": [],
        "id": "4c8798a4",
        "outputId": "6171f18d-6269-4ce4-ddbf-fe28da319024",
        "colab": {
          "referenced_widgets": [
            "4a13972a4a334fea8653989cf20f3aca",
            "bb0a0f0c857943e69d7bc76631013271",
            "88da77c0d1cd49438d2a88e3f13a09a3",
            "a45d816fb8d94fcdb7f2293fa0d05fd2",
            "ab5e8900b5e045e69cb9cd6e6f6ce5fe",
            "4260971151f24195b00a6b9d6ba8d01f",
            "a31c1b07410c4f2ab4e7b729c6d06dc5",
            "ed9fcf50bb444f3c8fcae82145586532",
            "064df446fc094312b690f2d4d2d903a9",
            "ac5aedef1b3f4d8bafb93ed1ada39466",
            "6a9a2ba7d8fb40ca84cb70b1c382de1d",
            "203e084166064efcaf76431ffb1ab0e1",
            "82fc6f7740204299a4a742e86cb33129",
            "22dba69d6b434351b8c8daf0b5e81787",
            "d246ef12bfb443c99dc5196e6652371b"
          ]
        }
      },
      "source": [
        "train_model(model, train_data, opt, criterion, 15, val_data = val_data, device = 'cuda')"
      ],
      "id": "4c8798a4",
      "execution_count": null,
      "outputs": [
        {
          "data": {
            "application/vnd.jupyter.widget-view+json": {
              "model_id": "4a13972a4a334fea8653989cf20f3aca",
              "version_major": 2,
              "version_minor": 0
            },
            "text/plain": [
              "  0%|          | 0/468 [00:00<?, ?it/s]"
            ]
          },
          "metadata": {},
          "output_type": "display_data"
        },
        {
          "name": "stdout",
          "output_type": "stream",
          "text": [
            "0.6952187955379486\n",
            "0.6961167763918639\n",
            "0.6960212789475918\n",
            "0.6935452966019511\n",
            "0.6956108662486077\n",
            "epoch: 0 loss: 0.6959783824590536 acc: 0.46153846153846156 ;;;; val_loss: 0.6997804672290118 val_acc: 0.4358974358974359\n"
          ]
        },
        {
          "data": {
            "application/vnd.jupyter.widget-view+json": {
              "model_id": "bb0a0f0c857943e69d7bc76631013271",
              "version_major": 2,
              "version_minor": 0
            },
            "text/plain": [
              "  0%|          | 0/468 [00:00<?, ?it/s]"
            ]
          },
          "metadata": {},
          "output_type": "display_data"
        },
        {
          "name": "stdout",
          "output_type": "stream",
          "text": [
            "0.6865115188062191\n",
            "0.694757865741849\n",
            "0.6962431378662586\n",
            "0.6967140460386873\n",
            "0.6970116446912289\n",
            "epoch: 1 loss: 0.6953978422615263 acc: 0.48504273504273504 ;;;; val_loss: 0.6990140141584934 val_acc: 0.4358974358974359\n"
          ]
        },
        {
          "data": {
            "application/vnd.jupyter.widget-view+json": {
              "model_id": "88da77c0d1cd49438d2a88e3f13a09a3",
              "version_major": 2,
              "version_minor": 0
            },
            "text/plain": [
              "  0%|          | 0/468 [00:00<?, ?it/s]"
            ]
          },
          "metadata": {},
          "output_type": "display_data"
        },
        {
          "name": "stdout",
          "output_type": "stream",
          "text": [
            "0.6949882946908474\n",
            "0.6940025471150875\n",
            "0.6946269219120343\n",
            "0.695854957960546\n",
            "0.69545365691185\n",
            "epoch: 2 loss: 0.6950635585265282 acc: 0.48504273504273504 ;;;; val_loss: 0.6984352179062672 val_acc: 0.4358974358974359\n"
          ]
        },
        {
          "data": {
            "application/vnd.jupyter.widget-view+json": {
              "model_id": "a45d816fb8d94fcdb7f2293fa0d05fd2",
              "version_major": 2,
              "version_minor": 0
            },
            "text/plain": [
              "  0%|          | 0/468 [00:00<?, ?it/s]"
            ]
          },
          "metadata": {},
          "output_type": "display_data"
        },
        {
          "name": "stdout",
          "output_type": "stream",
          "text": [
            "0.6974190019071103\n",
            "0.6960452012717724\n",
            "0.6947157981495062\n",
            "0.695728431455791\n",
            "0.6956389400362969\n",
            "epoch: 3 loss: 0.694813396431442 acc: 0.48504273504273504 ;;;; val_loss: 0.697714049082536 val_acc: 0.4358974358974359\n"
          ]
        },
        {
          "data": {
            "application/vnd.jupyter.widget-view+json": {
              "model_id": "ab5e8900b5e045e69cb9cd6e6f6ce5fe",
              "version_major": 2,
              "version_minor": 0
            },
            "text/plain": [
              "  0%|          | 0/468 [00:00<?, ?it/s]"
            ]
          },
          "metadata": {},
          "output_type": "display_data"
        },
        {
          "name": "stdout",
          "output_type": "stream",
          "text": [
            "0.6976111300289631\n",
            "0.6971059557050466\n",
            "0.6959434891740481\n",
            "0.695882385969162\n",
            "0.6950115510821342\n",
            "epoch: 4 loss: 0.6945765963476948 acc: 0.48504273504273504 ;;;; val_loss: 0.6972331954882696 val_acc: 0.4358974358974359\n"
          ]
        },
        {
          "data": {
            "application/vnd.jupyter.widget-view+json": {
              "model_id": "4260971151f24195b00a6b9d6ba8d01f",
              "version_major": 2,
              "version_minor": 0
            },
            "text/plain": [
              "  0%|          | 0/468 [00:00<?, ?it/s]"
            ]
          },
          "metadata": {},
          "output_type": "display_data"
        },
        {
          "name": "stdout",
          "output_type": "stream",
          "text": [
            "0.6942917615175247\n",
            "0.6925254691392183\n",
            "0.6928828363617261\n",
            "0.6935764906927944\n",
            "0.6943544971942902\n",
            "epoch: 5 loss: 0.6943346310375084 acc: 0.48504273504273504 ;;;; val_loss: 0.6966694501730112 val_acc: 0.4358974358974359\n"
          ]
        },
        {
          "data": {
            "application/vnd.jupyter.widget-view+json": {
              "model_id": "a31c1b07410c4f2ab4e7b729c6d06dc5",
              "version_major": 2,
              "version_minor": 0
            },
            "text/plain": [
              "  0%|          | 0/468 [00:00<?, ?it/s]"
            ]
          },
          "metadata": {},
          "output_type": "display_data"
        },
        {
          "name": "stdout",
          "output_type": "stream",
          "text": [
            "0.6928689979016781\n",
            "0.6943769153207541\n",
            "0.6950034809609255\n",
            "0.6941969899460674\n",
            "0.6945778372883796\n",
            "epoch: 6 loss: 0.6941389910176269 acc: 0.48504273504273504 ;;;; val_loss: 0.6960499470050519 val_acc: 0.4358974358974359\n"
          ]
        },
        {
          "data": {
            "application/vnd.jupyter.widget-view+json": {
              "model_id": "ed9fcf50bb444f3c8fcae82145586532",
              "version_major": 2,
              "version_minor": 0
            },
            "text/plain": [
              "  0%|          | 0/468 [00:00<?, ?it/s]"
            ]
          },
          "metadata": {},
          "output_type": "display_data"
        },
        {
          "name": "stdout",
          "output_type": "stream",
          "text": [
            "0.6934008166193962\n",
            "0.6946640551090241\n",
            "0.6943921372294426\n",
            "0.6942555813118816\n",
            "0.6945174716413021\n",
            "epoch: 7 loss: 0.6939943816162583 acc: 0.48504273504273504 ;;;; val_loss: 0.6956130159206879 val_acc: 0.4358974358974359\n"
          ]
        },
        {
          "data": {
            "application/vnd.jupyter.widget-view+json": {
              "model_id": "064df446fc094312b690f2d4d2d903a9",
              "version_major": 2,
              "version_minor": 0
            },
            "text/plain": [
              "  0%|          | 0/468 [00:00<?, ?it/s]"
            ]
          },
          "metadata": {},
          "output_type": "display_data"
        },
        {
          "name": "stdout",
          "output_type": "stream",
          "text": [
            "0.6970626465976238\n",
            "0.6953885097056627\n",
            "0.6947073464592298\n",
            "0.6948529014363884\n",
            "0.694025205373764\n",
            "epoch: 8 loss: 0.693862246015133 acc: 0.48504273504273504 ;;;; val_loss: 0.6951111280001127 val_acc: 0.4358974358974359\n"
          ]
        },
        {
          "data": {
            "application/vnd.jupyter.widget-view+json": {
              "model_id": "ac5aedef1b3f4d8bafb93ed1ada39466",
              "version_major": 2,
              "version_minor": 0
            },
            "text/plain": [
              "  0%|          | 0/468 [00:00<?, ?it/s]"
            ]
          },
          "metadata": {},
          "output_type": "display_data"
        },
        {
          "name": "stdout",
          "output_type": "stream",
          "text": [
            "0.6893782526254654\n",
            "0.6928161811083555\n",
            "0.6934713756044706\n",
            "0.6932540012523531\n",
            "0.6934722258150577\n",
            "epoch: 9 loss: 0.6937117803300548 acc: 0.48504273504273504 ;;;; val_loss: 0.6946791181197534 val_acc: 0.4358974358974359\n"
          ]
        },
        {
          "data": {
            "application/vnd.jupyter.widget-view+json": {
              "model_id": "6a9a2ba7d8fb40ca84cb70b1c382de1d",
              "version_major": 2,
              "version_minor": 0
            },
            "text/plain": [
              "  0%|          | 0/468 [00:00<?, ?it/s]"
            ]
          },
          "metadata": {},
          "output_type": "display_data"
        },
        {
          "name": "stdout",
          "output_type": "stream",
          "text": [
            "0.6953121840953826\n",
            "0.6939303800463676\n",
            "0.6942089629669984\n",
            "0.6939143994823098\n",
            "0.6937375386059285\n",
            "epoch: 10 loss: 0.6935624741336219 acc: 0.48504273504273504 ;;;; val_loss: 0.6942937190716083 val_acc: 0.4358974358974359\n"
          ]
        },
        {
          "data": {
            "application/vnd.jupyter.widget-view+json": {
              "model_id": "203e084166064efcaf76431ffb1ab0e1",
              "version_major": 2,
              "version_minor": 0
            },
            "text/plain": [
              "  0%|          | 0/468 [00:00<?, ?it/s]"
            ]
          },
          "metadata": {},
          "output_type": "display_data"
        },
        {
          "name": "stdout",
          "output_type": "stream",
          "text": [
            "0.693454758822918\n",
            "0.6932396683841944\n",
            "0.6934326328337193\n",
            "0.6935605136677623\n",
            "0.6933242927491665\n",
            "epoch: 11 loss: 0.6934557338046212 acc: 0.48504273504273504 ;;;; val_loss: 0.6939663688341776 val_acc: 0.4358974358974359\n"
          ]
        },
        {
          "data": {
            "application/vnd.jupyter.widget-view+json": {
              "model_id": "82fc6f7740204299a4a742e86cb33129",
              "version_major": 2,
              "version_minor": 0
            },
            "text/plain": [
              "  0%|          | 0/468 [00:00<?, ?it/s]"
            ]
          },
          "metadata": {},
          "output_type": "display_data"
        },
        {
          "name": "stdout",
          "output_type": "stream",
          "text": [
            "0.6935548484325409\n",
            "0.6935166105628013\n",
            "0.6935516575972239\n",
            "0.6935068162158131\n",
            "0.6933656127750873\n",
            "epoch: 12 loss: 0.693372633594733 acc: 0.48504273504273504 ;;;; val_loss: 0.6936046068484967 val_acc: 0.4358974358974359\n"
          ]
        },
        {
          "data": {
            "application/vnd.jupyter.widget-view+json": {
              "model_id": "22dba69d6b434351b8c8daf0b5e81787",
              "version_major": 2,
              "version_minor": 0
            },
            "text/plain": [
              "  0%|          | 0/468 [00:00<?, ?it/s]"
            ]
          },
          "metadata": {},
          "output_type": "display_data"
        },
        {
          "name": "stdout",
          "output_type": "stream",
          "text": [
            "0.6936320468783379\n",
            "0.6934056241065264\n",
            "0.6932899152239164\n",
            "0.6932834211736918\n",
            "0.6933140544593335\n",
            "epoch: 13 loss: 0.6933083912500968 acc: 0.48504273504273504 ;;;; val_loss: 0.6932770793254559 val_acc: 0.4358974358974359\n"
          ]
        },
        {
          "data": {
            "application/vnd.jupyter.widget-view+json": {
              "model_id": "d246ef12bfb443c99dc5196e6652371b",
              "version_major": 2,
              "version_minor": 0
            },
            "text/plain": [
              "  0%|          | 0/468 [00:00<?, ?it/s]"
            ]
          },
          "metadata": {},
          "output_type": "display_data"
        },
        {
          "name": "stdout",
          "output_type": "stream",
          "text": [
            "0.6931694127619267\n",
            "0.6932531509548425\n",
            "0.6932518551747004\n",
            "0.6932296503335238\n",
            "0.6931870265305042\n",
            "epoch: 14 loss: 0.6932380012212656 acc: 0.4829059829059829 ;;;; val_loss: 0.6929894853860904 val_acc: 0.5641025641025641\n"
          ]
        }
      ]
    },
    {
      "cell_type": "code",
      "metadata": {
        "execution": {
          "iopub.execute_input": "2021-10-03T12:16:36.459984Z",
          "iopub.status.busy": "2021-10-03T12:16:36.459392Z",
          "iopub.status.idle": "2021-10-03T12:16:36.705090Z",
          "shell.execute_reply": "2021-10-03T12:16:36.704575Z"
        },
        "papermill": {
          "duration": 0.296866,
          "end_time": "2021-10-03T12:16:36.705244",
          "exception": false,
          "start_time": "2021-10-03T12:16:36.408378",
          "status": "completed"
        },
        "tags": [],
        "id": "f3c4e9e5"
      },
      "source": [
        "torch.save(model.state_dict(), './state.pth')"
      ],
      "id": "f3c4e9e5",
      "execution_count": null,
      "outputs": []
    },
    {
      "cell_type": "markdown",
      "source": [
        "# at last we evaluate the model with the given test data."
      ],
      "metadata": {
        "id": "JC74PX8aqSyC"
      },
      "id": "JC74PX8aqSyC"
    },
    {
      "cell_type": "code",
      "metadata": {
        "execution": {
          "iopub.execute_input": "2021-10-03T12:16:36.799978Z",
          "iopub.status.busy": "2021-10-03T12:16:36.799402Z",
          "iopub.status.idle": "2021-10-03T12:16:36.811034Z",
          "shell.execute_reply": "2021-10-03T12:16:36.809976Z",
          "shell.execute_reply.started": "2021-09-30T18:00:27.777758Z"
        },
        "papermill": {
          "duration": 0.061813,
          "end_time": "2021-10-03T12:16:36.811161",
          "exception": false,
          "start_time": "2021-10-03T12:16:36.749348",
          "status": "completed"
        },
        "tags": [],
        "id": "c71339a2"
      },
      "source": [
        "model.eval()\n",
        "test_files = np.array(os.listdir(test_path))\n",
        "test_files = sorted(test_files, key = lambda x:int(x))\n",
        "test_labels = np.ones((len(test_files),))\n",
        "test_data = RSNADataset(test_path, test_files, test_labels)\n",
        "test_data = DataLoader(test_data)"
      ],
      "id": "c71339a2",
      "execution_count": null,
      "outputs": []
    },
    {
      "cell_type": "code",
      "metadata": {
        "execution": {
          "iopub.execute_input": "2021-10-03T12:16:36.904257Z",
          "iopub.status.busy": "2021-10-03T12:16:36.903596Z",
          "iopub.status.idle": "2021-10-03T12:16:36.906768Z",
          "shell.execute_reply": "2021-10-03T12:16:36.907197Z",
          "shell.execute_reply.started": "2021-09-30T18:00:03.500211Z"
        },
        "papermill": {
          "duration": 0.052159,
          "end_time": "2021-10-03T12:16:36.907329",
          "exception": false,
          "start_time": "2021-10-03T12:16:36.855170",
          "status": "completed"
        },
        "tags": [],
        "id": "3bd5c75a"
      },
      "source": [
        "def get_preds(model, test_data):\n",
        "    torch.cuda.empty_cache()\n",
        "    preds = []\n",
        "    model.to('cuda')\n",
        "    for image, _ in tqdm(test_data):\n",
        "        image = image.to('cuda')\n",
        "        pred = model(image).detach().cpu()\n",
        "        preds.append(pred)\n",
        "    preds = torch.cat(preds, dim = 0).numpy()[:, 0]\n",
        "    #preds[preds < 0.5] = 0.0\n",
        "    #preds[preds >= 0.5] = 1.0\n",
        "    torch.cuda.empty_cache()\n",
        "    return preds"
      ],
      "id": "3bd5c75a",
      "execution_count": null,
      "outputs": []
    },
    {
      "cell_type": "code",
      "metadata": {
        "execution": {
          "iopub.execute_input": "2021-10-03T12:16:37.048364Z",
          "iopub.status.busy": "2021-10-03T12:16:37.047576Z",
          "iopub.status.idle": "2021-10-03T12:18:02.602317Z",
          "shell.execute_reply": "2021-10-03T12:18:02.601855Z",
          "shell.execute_reply.started": "2021-09-30T18:01:03.511581Z"
        },
        "papermill": {
          "duration": 85.652429,
          "end_time": "2021-10-03T12:18:02.602453",
          "exception": false,
          "start_time": "2021-10-03T12:16:36.950024",
          "status": "completed"
        },
        "tags": [],
        "id": "d2845a8f",
        "outputId": "ac046cef-aed5-474d-f9a4-bf50f1a9905a",
        "colab": {
          "referenced_widgets": [
            "35ad5f4757b54d1ba4fd3b2e17670c0d"
          ]
        }
      },
      "source": [
        "preds = get_preds(model, test_data)"
      ],
      "id": "d2845a8f",
      "execution_count": null,
      "outputs": [
        {
          "data": {
            "application/vnd.jupyter.widget-view+json": {
              "model_id": "35ad5f4757b54d1ba4fd3b2e17670c0d",
              "version_major": 2,
              "version_minor": 0
            },
            "text/plain": [
              "  0%|          | 0/87 [00:00<?, ?it/s]"
            ]
          },
          "metadata": {},
          "output_type": "display_data"
        }
      ]
    },
    {
      "cell_type": "code",
      "metadata": {
        "execution": {
          "iopub.execute_input": "2021-10-03T12:18:02.698600Z",
          "iopub.status.busy": "2021-10-03T12:18:02.698067Z",
          "iopub.status.idle": "2021-10-03T12:18:02.710408Z",
          "shell.execute_reply": "2021-10-03T12:18:02.709851Z",
          "shell.execute_reply.started": "2021-09-30T18:01:10.08364Z"
        },
        "papermill": {
          "duration": 0.06389,
          "end_time": "2021-10-03T12:18:02.710528",
          "exception": false,
          "start_time": "2021-10-03T12:18:02.646638",
          "status": "completed"
        },
        "tags": [],
        "id": "d30a5c22"
      },
      "source": [
        "submission = pd.DataFrame({'BraTS21ID':test_files, 'MGMT_value':preds})\n",
        "submission.to_csv('./submission.csv', index = False)"
      ],
      "id": "d30a5c22",
      "execution_count": null,
      "outputs": []
    }
  ]
}